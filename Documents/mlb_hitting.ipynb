{
 "cells": [
  {
   "cell_type": "code",
   "execution_count": 1,
   "metadata": {
    "collapsed": true
   },
   "outputs": [
    {
     "ename": "UnicodeEncodeError",
     "evalue": "'cp950' codec can't encode character '\\xef' in position 19: illegal multibyte sequence",
     "output_type": "error",
     "traceback": [
      "\u001b[0;31m---------------------------------------------------------------------------\u001b[0m",
      "\u001b[0;31mUnicodeEncodeError\u001b[0m                        Traceback (most recent call last)",
      "\u001b[0;32m<ipython-input-1-1f129ecd37a4>\u001b[0m in \u001b[0;36m<module>\u001b[0;34m()\u001b[0m\n\u001b[1;32m     49\u001b[0m \u001b[0mf\u001b[0m \u001b[1;33m=\u001b[0m \u001b[0mopen\u001b[0m\u001b[1;33m(\u001b[0m\u001b[1;34m\"hitting.csv\"\u001b[0m\u001b[1;33m,\u001b[0m\u001b[1;34m\"w\"\u001b[0m\u001b[1;33m)\u001b[0m\u001b[1;33m\u001b[0m\u001b[0m\n\u001b[1;32m     50\u001b[0m \u001b[0mw\u001b[0m \u001b[1;33m=\u001b[0m \u001b[0mcsv\u001b[0m\u001b[1;33m.\u001b[0m\u001b[0mwriter\u001b[0m\u001b[1;33m(\u001b[0m\u001b[0mf\u001b[0m\u001b[1;33m)\u001b[0m\u001b[1;33m\u001b[0m\u001b[0m\n\u001b[0;32m---> 51\u001b[0;31m \u001b[0mw\u001b[0m\u001b[1;33m.\u001b[0m\u001b[0mwriterows\u001b[0m\u001b[1;33m(\u001b[0m\u001b[0mdata\u001b[0m\u001b[1;33m)\u001b[0m\u001b[1;33m\u001b[0m\u001b[0m\n\u001b[0m\u001b[1;32m     52\u001b[0m \u001b[0mf\u001b[0m\u001b[1;33m.\u001b[0m\u001b[0mclose\u001b[0m\u001b[1;33m(\u001b[0m\u001b[1;33m)\u001b[0m\u001b[1;33m\u001b[0m\u001b[0m\n",
      "\u001b[0;31mUnicodeEncodeError\u001b[0m: 'cp950' codec can't encode character '\\xef' in position 19: illegal multibyte sequence"
     ]
    }
   ],
   "source": [
    "#Teaminfo\n",
    "import requests\n",
    "import json\n",
    "import csv\n",
    "#要import requests\n",
    "res = requests.get(\"http://newyork.yankees.mlb.com/lookup/json/named.team_hitting_season_leader_master.bam?season=2016&sort_order=%27desc%27&sort_column=%27avg%27&game_type=%27R%27&sport_code=%27mlb%27&recSP=1&recPP=50\")\n",
    "#要import json\n",
    "team_info = res.json()\n",
    "team_info_detail = team_info['team_hitting_season_leader_master']['queryResults']['row']\n",
    "\n",
    "#Team id\n",
    "team_id = []\n",
    "team_id_name = {}\n",
    "\n",
    "for team in team_info_detail:\n",
    "    team_id.append(team['team_id'])\n",
    "# xxx{key:值}\n",
    "    team_id_name[team['team_id']] = team['team_full']\n",
    "    \n",
    "\n",
    "allGame = []\n",
    "#賽季(2016-2016)\n",
    "for yy in range(2015,2017):\n",
    "    for Id in team_id:\n",
    "        year = yy\n",
    "        Timeid = Id\n",
    "\n",
    "        #playerinfo\n",
    "        res1 = requests.get(\"http://newyork.yankees.mlb.com/pubajax/wf/flow/stats.splayer?season={}&sort_order=%27desc%27&sort_column=%27avg%27&stat_type=hitting&page_type=SortablePlayer&team_id={}&game_type=%27R%27&player_pool=ALL&season_type=ANY&sport_code=%27mlb%27&results=1000\".format(year,Timeid))\n",
    "        player_info = res1.json()\n",
    "        player_info_detail = player_info['stats_sortable_player']['queryResults']['row']\n",
    "\n",
    "        #player id\n",
    "        player_id = []\n",
    "        \n",
    "        for player in player_info_detail:\n",
    "            player_id = []\n",
    "            player_id.append(year)\n",
    "            player_id.append(player['team_id'])\n",
    "            player_id.append(player['player_id'])\n",
    "            player_id.append(player['name_display_first_last'])\n",
    "            allGame.append(player_id)\n",
    "#增設表頭標示欄位\n",
    "allGame.insert(0,['Season','Team_ID','Player_ID','Player_Name'])\n",
    "data = allGame\n",
    "\n",
    "#open csv檔案 \"w\"(write) or \"a\"(append) -> 餵入資料 ->關閉\n",
    "#要import csv\n",
    "f = open(\"hitting.csv\",\"w\")\n",
    "w = csv.writer(f)\n",
    "w.writerows(data)\n",
    "f.close()"
   ]
  },
  {
   "cell_type": "code",
   "execution_count": 9,
   "metadata": {
    "collapsed": false
   },
   "outputs": [
    {
     "ename": "SyntaxError",
     "evalue": "EOL while scanning string literal (<ipython-input-9-2ccbd9db3f1f>, line 8)",
     "output_type": "error",
     "traceback": [
      "\u001b[0;36m  File \u001b[0;32m\"<ipython-input-9-2ccbd9db3f1f>\"\u001b[0;36m, line \u001b[0;32m8\u001b[0m\n\u001b[0;31m    res2 = requests.get(\"http://m.mlb.com/lookup/json/named.sport_hitting_game_log_composed.bam?game_type=%27R%27&league_list_id=%27mlb%27&player_id=516416&season=2016&sit_code=%271%27&sit_code=%272%27&sit_code=%273%27&sit_code=%274%27&sit_code=%275%27&sit_code=%276%27&sit_code=%277%27&sit_code=%278%27&sit_code=%279%27&sit_code=%2710%27&sit_code=%2711%27&sit_code=%2712%27)\u001b[0m\n\u001b[0m                                                                                                                                                                                                                                                                                                                                                                                       ^\u001b[0m\n\u001b[0;31mSyntaxError\u001b[0m\u001b[0;31m:\u001b[0m EOL while scanning string literal\n"
     ]
    }
   ],
   "source": [
    "#抓取game log資料\n",
    "gamelog_list = []\n",
    "for log in range(1,len(allGame)):\n",
    "    seasonlog = allGame[log][0]\n",
    "    playerlog = allGame[log][2]\n",
    "    \n",
    "#抓取game log資料 \n",
    "    res2 = requests.get(\"http://m.mlb.com/lookup/json/named.sport_hitting_game_log_composed.bam?game_type=%27R%27&league_list_id=%27mlb%27&player_id=516416&season=2016&sit_code=%271%27&sit_code=%272%27&sit_code=%273%27&sit_code=%274%27&sit_code=%275%27&sit_code=%276%27&sit_code=%277%27&sit_code=%278%27&sit_code=%279%27&sit_code=%2710%27&sit_code=%2711%27&sit_code=%2712%27)\n",
    "    \n",
    "    mlb_gamelog = res2.json()\n",
    "    gamelog_detail = mlb_gamelog['sport_hitting_game_log_composed'][ 'sport_hitting_game_log']['queryResults']['row']\n",
    "    \n",
    "    for log2 in gamelog_detail:\n",
    "        gamelog_list.append(log)\n",
    "        print(log)\n",
    "                        \n"
   ]
  },
  {
   "cell_type": "code",
   "execution_count": null,
   "metadata": {
    "collapsed": true
   },
   "outputs": [],
   "source": []
  },
  {
   "cell_type": "code",
   "execution_count": null,
   "metadata": {
    "collapsed": true
   },
   "outputs": [],
   "source": []
  },
  {
   "cell_type": "code",
   "execution_count": null,
   "metadata": {
    "collapsed": true
   },
   "outputs": [],
   "source": []
  },
  {
   "cell_type": "code",
   "execution_count": null,
   "metadata": {
    "collapsed": true
   },
   "outputs": [],
   "source": []
  },
  {
   "cell_type": "code",
   "execution_count": null,
   "metadata": {
    "collapsed": true
   },
   "outputs": [],
   "source": []
  }
 ],
 "metadata": {
  "anaconda-cloud": {},
  "kernelspec": {
   "display_name": "Python [default]",
   "language": "python",
   "name": "python3"
  },
  "language_info": {
   "codemirror_mode": {
    "name": "ipython",
    "version": 3
   },
   "file_extension": ".py",
   "mimetype": "text/x-python",
   "name": "python",
   "nbconvert_exporter": "python",
   "pygments_lexer": "ipython3",
   "version": "3.5.2"
  }
 },
 "nbformat": 4,
 "nbformat_minor": 1
}
